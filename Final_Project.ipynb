{
 "cells": [
  {
   "cell_type": "markdown",
   "metadata": {},
   "source": [
    "March 15, 2018\n",
    "\n",
    "** Vicki Schweickart **\n",
    "## Final Project for IT FDN 100B\n",
    "\n",
    "** Introduction **\n",
    "\n",
    "For my final project I wanted to analyze data from the Myers-Briggs Personality Test.  I was hoping for a large dataset that would include actual scores for each individual for each of the 4 personality axes.  Unable to find that, I settled for a dataset on [Kaggel.com](http://www.Kaggel.com) that included the 'type index' for 8675 people plus content from 50 of their recent posts on the website [PersonalityCafe forum](http://personalitycafe.com/forum/).\n",
    "\n",
    "** Background **\n",
    "\n",
    "The Myers-Briggs Type Index (MBTI) is a personality test developed in the 1940's that is widely used around the globe to help companies better understand their employees’ strengths, weaknesses and the way they perceive and process information.\n",
    "The MBTI measures an individual's position along each of 4 axes or dichotomies. High scores (at the ends of each axis) show strong preference for one mode of psychological function over the other, while low scores (in the mid-range of the axis) show only slight preference.\n",
    "\n",
    "* Introversion (I) – Extroversion (E)\n",
    "* Intuition (N) – Sensing (S)\n",
    "* Thinking (T) – Feeling (F)\n",
    "* Judging (J) – Perceiving (P)\n",
    "\n",
    "Regardless of their degree of preference, each individual is assigned a single letter for each of the 4 axes indicating the direction of their preference.  The 4 letter acronym that results is their 'type index.' Thus the MBTI groups individuals into 16 'types' based on their personality.\n",
    "\n",
    "  "
   ]
  },
  {
   "cell_type": "code",
   "execution_count": 1,
   "metadata": {},
   "outputs": [],
   "source": [
    "import pandas as pd \n",
    "import matplotlib.pyplot as plt \n",
    "\n",
    "%matplotlib inline "
   ]
  },
  {
   "cell_type": "code",
   "execution_count": 2,
   "metadata": {},
   "outputs": [],
   "source": [
    "# read the dataset into a data frame\n",
    "df = pd.read_csv('mbti_1.csv')"
   ]
  },
  {
   "cell_type": "code",
   "execution_count": 3,
   "metadata": {},
   "outputs": [
    {
     "data": {
      "text/html": [
       "<div>\n",
       "<style scoped>\n",
       "    .dataframe tbody tr th:only-of-type {\n",
       "        vertical-align: middle;\n",
       "    }\n",
       "\n",
       "    .dataframe tbody tr th {\n",
       "        vertical-align: top;\n",
       "    }\n",
       "\n",
       "    .dataframe thead th {\n",
       "        text-align: right;\n",
       "    }\n",
       "</style>\n",
       "<table border=\"1\" class=\"dataframe\">\n",
       "  <thead>\n",
       "    <tr style=\"text-align: right;\">\n",
       "      <th></th>\n",
       "      <th>type</th>\n",
       "      <th>posts</th>\n",
       "    </tr>\n",
       "  </thead>\n",
       "  <tbody>\n",
       "    <tr>\n",
       "      <th>0</th>\n",
       "      <td>INFJ</td>\n",
       "      <td>'http://www.youtube.com/watch?v=qsXHcwe3krw|||...</td>\n",
       "    </tr>\n",
       "    <tr>\n",
       "      <th>1</th>\n",
       "      <td>ENTP</td>\n",
       "      <td>'I'm finding the lack of me in these posts ver...</td>\n",
       "    </tr>\n",
       "    <tr>\n",
       "      <th>2</th>\n",
       "      <td>INTP</td>\n",
       "      <td>'Good one  _____   https://www.youtube.com/wat...</td>\n",
       "    </tr>\n",
       "    <tr>\n",
       "      <th>3</th>\n",
       "      <td>INTJ</td>\n",
       "      <td>'Dear INTP,   I enjoyed our conversation the o...</td>\n",
       "    </tr>\n",
       "    <tr>\n",
       "      <th>4</th>\n",
       "      <td>ENTJ</td>\n",
       "      <td>'You're fired.|||That's another silly misconce...</td>\n",
       "    </tr>\n",
       "    <tr>\n",
       "      <th>5</th>\n",
       "      <td>INTJ</td>\n",
       "      <td>'18/37 @.@|||Science  is not perfect. No scien...</td>\n",
       "    </tr>\n",
       "    <tr>\n",
       "      <th>6</th>\n",
       "      <td>INFJ</td>\n",
       "      <td>'No, I can't draw on my own nails (haha). Thos...</td>\n",
       "    </tr>\n",
       "    <tr>\n",
       "      <th>7</th>\n",
       "      <td>INTJ</td>\n",
       "      <td>'I tend to build up a collection of things on ...</td>\n",
       "    </tr>\n",
       "    <tr>\n",
       "      <th>8</th>\n",
       "      <td>INFJ</td>\n",
       "      <td>I'm not sure, that's a good question. The dist...</td>\n",
       "    </tr>\n",
       "    <tr>\n",
       "      <th>9</th>\n",
       "      <td>INTP</td>\n",
       "      <td>'https://www.youtube.com/watch?v=w8-egj0y8Qs||...</td>\n",
       "    </tr>\n",
       "  </tbody>\n",
       "</table>\n",
       "</div>"
      ],
      "text/plain": [
       "   type                                              posts\n",
       "0  INFJ  'http://www.youtube.com/watch?v=qsXHcwe3krw|||...\n",
       "1  ENTP  'I'm finding the lack of me in these posts ver...\n",
       "2  INTP  'Good one  _____   https://www.youtube.com/wat...\n",
       "3  INTJ  'Dear INTP,   I enjoyed our conversation the o...\n",
       "4  ENTJ  'You're fired.|||That's another silly misconce...\n",
       "5  INTJ  '18/37 @.@|||Science  is not perfect. No scien...\n",
       "6  INFJ  'No, I can't draw on my own nails (haha). Thos...\n",
       "7  INTJ  'I tend to build up a collection of things on ...\n",
       "8  INFJ  I'm not sure, that's a good question. The dist...\n",
       "9  INTP  'https://www.youtube.com/watch?v=w8-egj0y8Qs||..."
      ]
     },
     "execution_count": 3,
     "metadata": {},
     "output_type": "execute_result"
    }
   ],
   "source": [
    "# take a look at the data (note that each post is seperated by 3 pipe characters: '|||')\n",
    "df.head(10)"
   ]
  },
  {
   "cell_type": "code",
   "execution_count": 4,
   "metadata": {},
   "outputs": [
    {
     "data": {
      "text/plain": [
       "array(['INFJ', 'ENTP', 'INTP', 'INTJ', 'ENTJ', 'ENFJ', 'INFP', 'ENFP',\n",
       "       'ISFP', 'ISTP', 'ISFJ', 'ISTJ', 'ESTP', 'ESFP', 'ESTJ', 'ESFJ'],\n",
       "      dtype=object)"
      ]
     },
     "execution_count": 4,
     "metadata": {},
     "output_type": "execute_result"
    }
   ],
   "source": [
    "# What are the 16 types?\n",
    "df['type'].unique()"
   ]
  },
  {
   "cell_type": "code",
   "execution_count": 5,
   "metadata": {},
   "outputs": [
    {
     "data": {
      "text/plain": [
       "INFP    1832\n",
       "INFJ    1470\n",
       "INTP    1304\n",
       "INTJ    1091\n",
       "ENTP     685\n",
       "ENFP     675\n",
       "ISTP     337\n",
       "ISFP     271\n",
       "ENTJ     231\n",
       "ISTJ     205\n",
       "ENFJ     190\n",
       "ISFJ     166\n",
       "ESTP      89\n",
       "ESFP      48\n",
       "ESFJ      42\n",
       "ESTJ      39\n",
       "Name: type, dtype: int64"
      ]
     },
     "execution_count": 5,
     "metadata": {},
     "output_type": "execute_result"
    }
   ],
   "source": [
    "# How evenly represented are the 16 types?\n",
    "df['type'].value_counts()"
   ]
  },
  {
   "cell_type": "code",
   "execution_count": 6,
   "metadata": {},
   "outputs": [
    {
     "data": {
      "text/plain": [
       "<matplotlib.axes._subplots.AxesSubplot at 0x2716d90f2b0>"
      ]
     },
     "execution_count": 6,
     "metadata": {},
     "output_type": "execute_result"
    },
    {
     "data": {
      "image/png": "[encoded data removed]",
      "text/plain": [
       "<Figure size 432x288 with 1 Axes>"
      ]
     },
     "metadata": {},
     "output_type": "display_data"
    }
   ],
   "source": [
    "# Not evenly distrubuted at all!  I don't think we'll be drawing any conclusions from this data set lol!\n",
    "# let's graph it:\n",
    "df['type'].value_counts().plot(kind='bar')"
   ]
  },
  {
   "cell_type": "code",
   "execution_count": 7,
   "metadata": {
    "scrolled": true
   },
   "outputs": [
    {
     "name": "stdout",
     "output_type": "stream",
     "text": [
      "   type                                              posts  avg_length\n",
      "0  INFJ  'http://www.youtube.com/watch?v=qsXHcwe3krw|||...       12.10\n",
      "1  ENTP  'I'm finding the lack of me in these posts ver...       24.38\n",
      "2  INTP  'Good one  _____   https://www.youtube.com/wat...       17.70\n",
      "3  INTJ  'Dear INTP,   I enjoyed our conversation the o...       22.26\n",
      "4  ENTJ  'You're fired.|||That's another silly misconce...       20.32\n",
      "5  INTJ  '18/37 @.@|||Science  is not perfect. No scien...       30.80\n",
      "6  INFJ  'No, I can't draw on my own nails (haha). Thos...       27.56\n",
      "7  INTJ  'I tend to build up a collection of things on ...       25.44\n",
      "8  INFJ  I'm not sure, that's a good question. The dist...       15.74\n",
      "9  INTP  'https://www.youtube.com/watch?v=w8-egj0y8Qs||...       25.64\n"
     ]
    }
   ],
   "source": [
    "# I wrote a function to determine the average length of posts made by each individual\n",
    "# first it splits the full string into individual posts, determines the length of each, and then averages those lengths\n",
    "\n",
    "def avg_words(row):\n",
    "    word_count = []\n",
    "    tot = 0\n",
    "    for i in row.split('|||'):\n",
    "        word_count.append(len(i.split()))\n",
    "    for x in word_count:\n",
    "        tot += x\n",
    "    return tot/len(word_count)\n",
    "\n",
    "# While I was trying to figure out how to apply my function to each row I learned something new: lambda functions\n",
    "\n",
    "df['avg_length'] = df['posts'].apply(lambda x: avg_words(x))\n",
    "print(df.head(10))"
   ]
  },
  {
   "cell_type": "markdown",
   "metadata": {},
   "source": [
    "** Lambda Functions **\n",
    "\n",
    "Instead of writing a named function, you can use a lambda function in-line to perform the same operation.  \n",
    "Read more about it [here](http://www.secnetix.de/olli/Python/lambda_functions.hawk).\n",
    "\n",
    "Lambda acts just like a regular function except it has a different format and doesn't need a return statement\n",
    "\n",
    "regular function: ** def a(x): return x + 1 **\n",
    "\n",
    "lambda function: ** b = lambda x: x + 1 **"
   ]
  },
  {
   "cell_type": "code",
   "execution_count": 8,
   "metadata": {},
   "outputs": [
    {
     "data": {
      "text/plain": [
       "True"
      ]
     },
     "execution_count": 8,
     "metadata": {},
     "output_type": "execute_result"
    }
   ],
   "source": [
    "# both of these will return the same value\n",
    "\n",
    "def a(x): return x + 1\n",
    "\n",
    "b = lambda x: x + 1\n",
    "\n",
    "a(5) == b(5)"
   ]
  },
  {
   "cell_type": "markdown",
   "metadata": {},
   "source": [
    "Lambda is usually used in conjunction other functions such as map(), filter(), or reduce(), where it will apply the function to each item in a list."
   ]
  },
  {
   "cell_type": "code",
   "execution_count": 9,
   "metadata": {},
   "outputs": [
    {
     "data": {
      "text/plain": [
       "[3, 6, 9]"
      ]
     },
     "execution_count": 9,
     "metadata": {},
     "output_type": "execute_result"
    }
   ],
   "source": [
    "mult3 = filter(lambda x: x % 3 == 0, [1, 2, 3, 4, 5, 6, 7, 8, 9])\n",
    "list(mult3)"
   ]
  },
  {
   "cell_type": "markdown",
   "metadata": {},
   "source": [
    "Turns out lambda functions are quite controversial - everyone has an opinion!  Many think they should be avoided by using list comprehension instead.  Others argue there is a valid role for lambda functions in certain situations.  Whatever...\n",
    "I still think they're cool.\n",
    "\n",
    "Here is an example of a very clever lambda function that completely replaces the function I wrote above:"
   ]
  },
  {
   "cell_type": "code",
   "execution_count": 10,
   "metadata": {},
   "outputs": [
    {
     "name": "stdout",
     "output_type": "stream",
     "text": [
      "   type                                              posts  avg_length  \\\n",
      "0  INFJ  'http://www.youtube.com/watch?v=qsXHcwe3krw|||...       12.10   \n",
      "1  ENTP  'I'm finding the lack of me in these posts ver...       24.38   \n",
      "2  INTP  'Good one  _____   https://www.youtube.com/wat...       17.70   \n",
      "3  INTJ  'Dear INTP,   I enjoyed our conversation the o...       22.26   \n",
      "4  ENTJ  'You're fired.|||That's another silly misconce...       20.32   \n",
      "5  INTJ  '18/37 @.@|||Science  is not perfect. No scien...       30.80   \n",
      "6  INFJ  'No, I can't draw on my own nails (haha). Thos...       27.56   \n",
      "7  INTJ  'I tend to build up a collection of things on ...       25.44   \n",
      "8  INFJ  I'm not sure, that's a good question. The dist...       15.74   \n",
      "9  INTP  'https://www.youtube.com/watch?v=w8-egj0y8Qs||...       25.64   \n",
      "\n",
      "   avg_length_2  \n",
      "0         11.12  \n",
      "1         23.40  \n",
      "2         16.72  \n",
      "3         21.28  \n",
      "4         19.34  \n",
      "5         29.82  \n",
      "6         26.58  \n",
      "7         24.46  \n",
      "8         14.76  \n",
      "9         24.66  \n"
     ]
    }
   ],
   "source": [
    "# this tidy shortcut takes the entire string, splits it into words and then divides by 50\n",
    "\n",
    "df['avg_length_2'] = df['posts'].apply(lambda x: len(x.split())/50)\n",
    "print(df.head(10))\n"
   ]
  },
  {
   "cell_type": "markdown",
   "metadata": {},
   "source": [
    "Notice that the results are slightly different!  My function may be more cumbersome, but it gives more accurate results because it removes the delimiter (|||) and counts each post seperately.  This shortcut method underestimates the total count by 50 words because it counts the last word of each post + '|||' + first word of next post as a single word. "
   ]
  },
  {
   "cell_type": "markdown",
   "metadata": {},
   "source": [
    "** Conclusion: **\n",
    "\n",
    "Clearly, I didn't even scratch the surface of this MBTI data set!  Most of the folks using this data were working on Machine Learing.  They were trying to build algorithms that could predict what MBTI type a person is by looking at the content of their posts.\n",
    "\n",
    "But I had a good time and I learned a few things along the way.  Hope you did too!"
   ]
  }
 ],
 "metadata": {
  "kernelspec": {
   "display_name": "Python 3",
   "language": "python",
   "name": "python3"
  },
  "language_info": {
   "codemirror_mode": {
    "name": "ipython",
    "version": 3
   },
   "file_extension": ".py",
   "mimetype": "text/x-python",
   "name": "python",
   "nbconvert_exporter": "python",
   "pygments_lexer": "ipython3",
   "version": "3.6.4"
  }
 },
 "nbformat": 4,
 "nbformat_minor": 2
}
